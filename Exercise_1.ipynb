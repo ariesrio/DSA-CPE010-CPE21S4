{
  "nbformat": 4,
  "nbformat_minor": 0,
  "metadata": {
    "colab": {
      "provenance": [],
      "authorship_tag": "ABX9TyMkghr7/xd92W7naZBZLXd4",
      "include_colab_link": true
    },
    "kernelspec": {
      "name": "python3",
      "display_name": "Python 3"
    },
    "language_info": {
      "name": "python"
    }
  },
  "cells": [
    {
      "cell_type": "markdown",
      "metadata": {
        "id": "view-in-github",
        "colab_type": "text"
      },
      "source": [
        "<a href=\"https://colab.research.google.com/github/ariesrio/DSA-CPE010-CPE21S4/blob/main/Exercise_1.ipynb\" target=\"_parent\"><img src=\"https://colab.research.google.com/assets/colab-badge.svg\" alt=\"Open In Colab\"/></a>"
      ]
    },
    {
      "cell_type": "markdown",
      "source": [
        "# **Exercise 1 (Class Constructor and Method)**"
      ],
      "metadata": {
        "id": "oWD1Gx3pnTje"
      }
    },
    {
      "cell_type": "code",
      "source": [
        "class Rectangle:\n",
        "    def __init__(self, length, width):\n",
        "        self.length = length\n",
        "        self.width = width\n",
        "    def Area(self):\n",
        "        return self.length * self.width\n",
        "\n",
        "length = float(input(\"Length: \"))\n",
        "width = float(input(\"Width: \"))\n",
        "\n",
        "rectangle = Rectangle(length, width)\n",
        "\n",
        "area = rectangle.Area()\n",
        "\n",
        "print(\"The area of the rectangle is:\", area)"
      ],
      "metadata": {
        "id": "ax5KIViXpfm-",
        "outputId": "bc3c81c9-ac99-4045-8ca4-03607e774a76",
        "colab": {
          "base_uri": "https://localhost:8080/"
        }
      },
      "execution_count": 2,
      "outputs": [
        {
          "output_type": "stream",
          "name": "stdout",
          "text": [
            "Length: 5\n",
            "Width: 4\n",
            "The area of the rectangle is: 20.0\n"
          ]
        }
      ]
    }
  ]
}