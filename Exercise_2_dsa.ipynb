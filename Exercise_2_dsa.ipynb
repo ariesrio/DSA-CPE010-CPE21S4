{
  "nbformat": 4,
  "nbformat_minor": 0,
  "metadata": {
    "colab": {
      "provenance": [],
      "authorship_tag": "ABX9TyPqQnQ8JsV4c/aDIJl9bquC",
      "include_colab_link": true
    },
    "kernelspec": {
      "name": "python3",
      "display_name": "Python 3"
    },
    "language_info": {
      "name": "python"
    }
  },
  "cells": [
    {
      "cell_type": "markdown",
      "metadata": {
        "id": "view-in-github",
        "colab_type": "text"
      },
      "source": [
        "<a href=\"https://colab.research.google.com/github/ariesrio/DSA-CPE010-CPE21S4/blob/main/Exercise_2_dsa.ipynb\" target=\"_parent\"><img src=\"https://colab.research.google.com/assets/colab-badge.svg\" alt=\"Open In Colab\"/></a>"
      ]
    },
    {
      "cell_type": "code",
      "execution_count": 9,
      "metadata": {
        "colab": {
          "base_uri": "https://localhost:8080/"
        },
        "id": "oFi4kLihCHG1",
        "outputId": "4a938a7b-6556-4ed9-d17e-579c1147c8be"
      },
      "outputs": [
        {
          "output_type": "stream",
          "name": "stdout",
          "text": [
            "Rectangle area: 10\n",
            "Square area: 4\n",
            "Triangle area: 7.5\n"
          ]
        }
      ],
      "source": [
        "class Shapes:\n",
        "    def __init__(self, length=0, width=0, side=0, base=0, height=0):\n",
        "        self.length = length  # Length for Rectangle\n",
        "        self.width = width    # Width for Rectangle\n",
        "        self.side = side      # Side length for Square\n",
        "        self.base = base      # Base for Triangle\n",
        "        self.height = height  # Height for Triangle\n",
        "\n",
        "    # sub class\n",
        "    class Rectangle:\n",
        "        def __init__(self, length, width):\n",
        "            self.length = length\n",
        "            self.width = width\n",
        "\n",
        "        def area(self):\n",
        "            return self.length * self.width  # calculate area of the rectangle\n",
        "\n",
        "    # sub class\n",
        "    class Square:\n",
        "        def __init__(self, side):\n",
        "            self.side = side\n",
        "\n",
        "        def area(self):\n",
        "            return self.side ** 2  # calculate area of the square\n",
        "\n",
        "    # sub class\n",
        "    class Triangle:\n",
        "        def __init__(self, base, height):\n",
        "            self.base = base\n",
        "            self.height = height\n",
        "\n",
        "        def area(self):\n",
        "            return (self.base * self.height) / 2  # calculate area of the triangle\n",
        "\n",
        "# Rectangle\n",
        "rectangle = Shapes.Rectangle(length=2, width=5)\n",
        "print(\"Rectangle area:\", rectangle.area())\n",
        "\n",
        "# Square\n",
        "square = Shapes.Square(side=2)\n",
        "print(\"Square area:\", square.area())\n",
        "\n",
        "# Triangle\n",
        "triangle = Shapes.Triangle(base=3, height=5)\n",
        "print(\"Triangle area:\", triangle.area())\n"
      ]
    }
  ]
}