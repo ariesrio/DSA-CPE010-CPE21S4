{
  "nbformat": 4,
  "nbformat_minor": 0,
  "metadata": {
    "colab": {
      "provenance": [],
      "authorship_tag": "ABX9TyNdoyHED6oqKHuC8TAKnyAV",
      "include_colab_link": true
    },
    "kernelspec": {
      "name": "python3",
      "display_name": "Python 3"
    },
    "language_info": {
      "name": "python"
    }
  },
  "cells": [
    {
      "cell_type": "markdown",
      "metadata": {
        "id": "view-in-github",
        "colab_type": "text"
      },
      "source": [
        "<a href=\"https://colab.research.google.com/github/LeeIvanTitong/DSA-CpE-010-CpE21S4/blob/main/DSA_9_13_2024.ipynb\" target=\"_parent\"><img src=\"https://colab.research.google.com/assets/colab-badge.svg\" alt=\"Open In Colab\"/></a>"
      ]
    },
    {
      "cell_type": "code",
      "execution_count": 21,
      "metadata": {
        "id": "EiCqEykUAZZw",
        "colab": {
          "base_uri": "https://localhost:8080/"
        },
        "outputId": "3bef9b3d-f293-411f-bc32-f7e78899a661"
      },
      "outputs": [
        {
          "output_type": "stream",
          "name": "stdout",
          "text": [
            "array('i', [1, 2, 3, 4, 5])\n",
            "array('i', [1, 2, 3, 4, 5])\n",
            "array('i', [1, 2, 3, 4, 5, 1, 2, 3, 4, 5])\n"
          ]
        }
      ],
      "source": [
        "# Example 1\n",
        "import array\n",
        "array.typecodes  # get all typecodes\n",
        "a=array.array('i',[1,2,3,4,5])\n",
        "b=array.array('i',[1,2,3,4,5])\n",
        "print(a)\n",
        "print(b)\n",
        "print(a+b)\n"
      ]
    },
    {
      "cell_type": "code",
      "source": [
        "#Example 2\n",
        "from array import array # importing array from array module\n",
        "a=array('i',[4,5,6,7])\n",
        "a.insert(1,2)\n",
        "a\n",
        "array('i', [4, 2, 5, 6, 7])\n",
        "a.insert(-1,0)\n",
        "a\n",
        "a.insert(10,-1)\n",
        "a\n",
        "array('i', [4, 2, 5, 6, 7, 0, -1])"
      ],
      "metadata": {
        "colab": {
          "base_uri": "https://localhost:8080/"
        },
        "id": "3g05R7OHCTxc",
        "outputId": "a29c5c20-1e6e-45d0-9e9e-e96072f0f6f0"
      },
      "execution_count": null,
      "outputs": [
        {
          "output_type": "execute_result",
          "data": {
            "text/plain": [
              "array('i', [4, 2, 5, 6, 7, 0, -1])"
            ]
          },
          "metadata": {},
          "execution_count": 1
        }
      ]
    },
    {
      "cell_type": "code",
      "source": [
        "#Example 4\n",
        "class Node:\n",
        "    def __init__(self,data):\n",
        "        self.data=data\n",
        "        self.next=None\n",
        "class LinkedList:\n",
        "    def __init__(self):\n",
        "        self.head=None\n",
        "\n",
        "class LinkedList:\n",
        "    def __init__(self):\n",
        "      self.head=None\n",
        "\n",
        "    def printdata(self):\n",
        "        temp=self.head\n",
        "        while(temp):\n",
        "            print(temp.data)\n",
        "            temp=temp.next\n",
        "\n",
        "if __name__=='__main__':\n",
        "    list=LinkedList()\n",
        "    list.head=Node(1)\n",
        "    second=Node(2)\n",
        "    third=Node(3)\n",
        "\n",
        "    list.head.next=second\n",
        "    second.next=third\n",
        "\n",
        "\n",
        "list.printdata()"
      ],
      "metadata": {
        "id": "QpA21SNiDsIO",
        "colab": {
          "base_uri": "https://localhost:8080/"
        },
        "outputId": "a529326f-ee8e-4c65-b055-5e2e5a56f852"
      },
      "execution_count": 38,
      "outputs": [
        {
          "output_type": "stream",
          "name": "stdout",
          "text": [
            "1\n",
            "2\n",
            "3\n"
          ]
        }
      ]
    },
    {
      "cell_type": "code",
      "source": [
        "#include <iostream>\n",
        "\n",
        "class Node {\n",
        "    public:\n",
        "    int value;\n",
        "    Node'* next;\n",
        "};\n",
        "\n",
        "int main(){\n",
        "    Node* head;\n",
        "    Node* one;\n",
        "    Node* second;\n",
        "    Node* third;\n",
        "\n",
        "    one = new Node();\n",
        "    two = new Node();\n",
        "    three = new Node();\n",
        "\n",
        "    one->value = 1;\n",
        "    two->value = 2;\n",
        "    three->value = 3;\n",
        "\n",
        "    one->next = two;\n",
        "    two->next = three;\n",
        "    three->next = NULL;\n",
        "\n",
        "    head = one;\n",
        "\n",
        "    while(head != NULL){\n",
        "        std::cout << head->value << std::endl;\n",
        "        head = head->next;\n",
        "    }\n",
        "\n",
        "    return 0;\n",
        "\n",
        "\n",
        "}"
      ],
      "metadata": {
        "colab": {
          "base_uri": "https://localhost:8080/",
          "height": 110
        },
        "id": "pNl_4VKoORb5",
        "outputId": "b16c9326-48e3-4bff-cb3a-90269cb28140"
      },
      "execution_count": 40,
      "outputs": [
        {
          "output_type": "error",
          "ename": "SyntaxError",
          "evalue": "unterminated string literal (detected at line 6) (<ipython-input-40-f2e11b16c1b3>, line 6)",
          "traceback": [
            "\u001b[0;36m  File \u001b[0;32m\"<ipython-input-40-f2e11b16c1b3>\"\u001b[0;36m, line \u001b[0;32m6\u001b[0m\n\u001b[0;31m    Node'* next;\u001b[0m\n\u001b[0m        ^\u001b[0m\n\u001b[0;31mSyntaxError\u001b[0m\u001b[0;31m:\u001b[0m unterminated string literal (detected at line 6)\n"
          ]
        }
      ]
    }
  ]
}